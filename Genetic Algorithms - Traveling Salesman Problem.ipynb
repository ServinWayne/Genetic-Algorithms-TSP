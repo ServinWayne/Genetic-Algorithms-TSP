{
 "cells": [
  {
   "cell_type": "markdown",
   "metadata": {
    "id": "IBXq6j6Gnp1j"
   },
   "source": [
    "# Traveling Salesman Problem:\n",
    "\n",
    "In this project, I’ll be using a Genetic Algorithms to find a solution to the traveling salesman problem (TSP). The TSP is described as follows:\n",
    "“Given a list of cities and the distances between each pair of cities, what is the shortest possible route that visits each city and returns to the origin city?”"
   ]
  },
  {
   "cell_type": "markdown",
   "metadata": {
    "id": "43cSQSQvnp1r"
   },
   "source": [
    "Given this, there are two important rules to keep in mind:\n",
    "- Each city needs to be visited exactly one time\n",
    "- We must return to the starting city, so our total distance needs to be calculated accordingly  \n",
    "\n",
    "### Approach:  \n",
    "Let’s start with a few definitions, rephrased in the context of the TSP:\n",
    "- Gene: a city (represented as (x, y) coordinates)\n",
    "- Individual (aka “chromosome”): a single route satisfying the conditions above\n",
    "- Population: a collection of possible routes (i.e., collection of individuals)\n",
    "- Parents: two routes that are combined to create a new route\n",
    "- Mating pool: a collection of parents that are used to create our next population (thus creating the next generation of routes)\n",
    "- Fitness: a function that tells us how good each route is (in our case, how short the distance is)\n",
    "- Mutation: a way to introduce variation in our population by randomly swapping two cities in a route\n",
    "- Elitism: a way to carry the best individuals into the next generation    \n",
    "  \n",
    "Our GA will proceed in the following steps:\n",
    "- 1. Create the population\n",
    "- 2. Determine fitness\n",
    "- 3. Select the mating pool\n",
    "- 4. Breed\n",
    "- 5. Mutate\n",
    "- 6. Repeat  \n",
    "Now, let’s see this in action!"
   ]
  },
  {
   "cell_type": "markdown",
   "metadata": {
    "id": "lVjztTo9np1s"
   },
   "source": [
    "## Creating the Genetic Algorithm:"
   ]
  },
  {
   "cell_type": "markdown",
   "metadata": {
    "id": "vwQgwHt5np1t"
   },
   "source": [
    "First, I Create two classes: City and Fitness  \n",
    "The City class that will allow us to create and handle our cities. These are simply our (x, y) coordinates. Within the City class, we add a distance calculation (making use of the Pythagorean theorem) and a cleaner way to output the cities as coordinates with `__repr __`."
   ]
  },
  {
   "cell_type": "code",
   "execution_count": 20,
   "metadata": {
    "id": "K8bCkeranp1u"
   },
   "outputs": [],
   "source": [
    "import numpy as np, random, operator, pandas as pd, matplotlib.pyplot as plt"
   ]
  },
  {
   "cell_type": "code",
   "execution_count": 21,
   "metadata": {
    "id": "4gLet7tPnp1u"
   },
   "outputs": [],
   "source": [
    "class City:\n",
    "    def __init__(self, y, x):\n",
    "        self.x = x\n",
    "        self.y = y\n",
    "    \n",
    "    def distance(self, city):\n",
    "        xDis = abs(self.x - city.x)\n",
    "        yDis = abs(self.y - city.y)\n",
    "        distance = np.sqrt((xDis ** 2) + (yDis ** 2))\n",
    "        return distance\n",
    "    \n",
    "    def __repr__(self):\n",
    "        return \"(\" + str(self.x) + \",\" + str(self.y) + \")\""
   ]
  },
  {
   "cell_type": "markdown",
   "metadata": {
    "id": "X_t6nzHOnp1v"
   },
   "source": [
    "We’ll also create a Fitness class. In our case, we’ll treat the fitness as the inverse of the route distance. We want to minimize route distance, so a larger fitness score is better"
   ]
  },
  {
   "cell_type": "code",
   "execution_count": 22,
   "metadata": {
    "id": "-ExtwMD_np1v"
   },
   "outputs": [],
   "source": [
    "class Fitness:\n",
    "    def __init__(self, route):\n",
    "        self.route = route\n",
    "        self.distance = 0\n",
    "        self.fitness= 0.0\n",
    "    \n",
    "    def routeDistance(self):\n",
    "        if self.distance ==0:\n",
    "            pathDistance = 0\n",
    "            for i in range(0, len(self.route)):\n",
    "                fromCity = self.route[i]\n",
    "                toCity = None\n",
    "                if i + 1 < len(self.route):\n",
    "                    toCity = self.route[i + 1]\n",
    "                else:\n",
    "                    toCity = self.route[0]\n",
    "                pathDistance += fromCity.distance(toCity)\n",
    "            self.distance = pathDistance\n",
    "        return self.distance\n",
    "    \n",
    "    def routeFitness(self):\n",
    "        if self.fitness == 0:\n",
    "            self.fitness = 1 / float(self.routeDistance())\n",
    "        return self.fitness"
   ]
  },
  {
   "cell_type": "markdown",
   "metadata": {
    "id": "goPiNnxOnp1w"
   },
   "source": [
    "### Creating our initial population"
   ]
  },
  {
   "cell_type": "markdown",
   "metadata": {
    "id": "RjfH8VLdnp1w"
   },
   "source": [
    "This is a Route generator.  \n",
    "We now can make our initial population (aka first generation). To do so, we need a way to create a function that produces routes that satisfy our conditions (Note: we’ll create our list of cities when we actually run the GA at the end of the tutorial). To create an individual, we randomly select the order in which we visit each city:"
   ]
  },
  {
   "cell_type": "code",
   "execution_count": 23,
   "metadata": {
    "id": "qgm0rIb-np1w"
   },
   "outputs": [],
   "source": [
    "def createRoute(cityList):\n",
    "    route = random.sample(cityList, len(cityList))\n",
    "    return route"
   ]
  },
  {
   "cell_type": "markdown",
   "metadata": {
    "id": "DODvp14Znp1x"
   },
   "source": [
    "Next, we create first \"population\" (list of routes)  \n",
    "This produces one individual, but we want a full population, so let’s do that in our next function. This is as simple as looping through the createRoute function until we have as many routes as we want for our population."
   ]
  },
  {
   "cell_type": "code",
   "execution_count": 24,
   "metadata": {
    "id": "5zP__VuQnp1x"
   },
   "outputs": [],
   "source": [
    "def initialPopulation(popSize, cityList):\n",
    "    population = []\n",
    "\n",
    "    for i in range(0, popSize):\n",
    "        population.append(createRoute(cityList))\n",
    "    return population"
   ]
  },
  {
   "cell_type": "markdown",
   "metadata": {
    "id": "KbkQ58nBnp1y"
   },
   "source": [
    "### Determining Fitness"
   ]
  },
  {
   "cell_type": "markdown",
   "metadata": {
    "id": "c7p394nwnp1y"
   },
   "source": [
    "Ranking the individuals. To simulate our “survival of the fittest”, we can make use of Fitness to rank each individual in the population. Our output will be an ordered list with the route IDs and each associated fitness score."
   ]
  },
  {
   "cell_type": "code",
   "execution_count": 25,
   "metadata": {
    "id": "BmfnWZRQnp1y"
   },
   "outputs": [],
   "source": [
    "def rankRoutes(population):\n",
    "    fitnessResults = {}\n",
    "    for i in range(0,len(population)):\n",
    "        fitnessResults[i] = Fitness(population[i]).routeFitness()\n",
    "    return sorted(fitnessResults.items(), key = operator.itemgetter(1), reverse = True)"
   ]
  },
  {
   "cell_type": "markdown",
   "metadata": {
    "id": "zioKQv6tnp1z"
   },
   "source": [
    "### Selecting the mating pool\n",
    "There are a few options for how to select the parents that will be used to create the next generation. The most common approaches are either fitness proportionate selection (aka “roulette wheel selection”) or tournament selection:\n",
    "- Fitness proportionate selection (the version implemented below): The fitness of each individual relative to the population is used to assign a probability of selection. Think of this as the fitness-weighted probability of being selected.\n",
    "- Tournament selection: A set number of individuals are randomly selected from the population and the one with the highest fitness in the group is chosen as the first parent. This is repeated to chose the second parent.  \n",
    "\n",
    "Another design feature to consider is the use of elitism. With elitism, the best performing individuals from the population will automatically carry over to the next generation, ensuring that the most successful individuals persist.  "
   ]
  },
  {
   "cell_type": "code",
   "execution_count": 26,
   "metadata": {
    "id": "aOl0v-q_np10"
   },
   "outputs": [],
   "source": [
    "def selection(popRanked, eliteSize):\n",
    "    selectionResults = []\n",
    "    df = pd.DataFrame(np.array(popRanked), columns=[\"Index\",\"Fitness\"])\n",
    "    df['cum_sum'] = df.Fitness.cumsum()\n",
    "    df['cum_perc'] = 100*df.cum_sum/df.Fitness.sum()\n",
    "    \n",
    "    for i in range(0, eliteSize):\n",
    "        selectionResults.append(popRanked[i][0])\n",
    "    for i in range(0, len(popRanked) - eliteSize):\n",
    "        pick = 100*random.random()\n",
    "        for i in range(0, len(popRanked)):\n",
    "            if pick <= df.iat[i,3]:\n",
    "                selectionResults.append(popRanked[i][0])\n",
    "                break\n",
    "    return selectionResults"
   ]
  },
  {
   "cell_type": "markdown",
   "metadata": {
    "id": "N0L4EUmZnp10"
   },
   "source": [
    "Now that we have the IDs of the routes that will make up our mating pool from the selection function, we can create the mating pool. We’re simply extracting the selected individuals from our population."
   ]
  },
  {
   "cell_type": "code",
   "execution_count": 27,
   "metadata": {
    "id": "CTAKhDIjnp11"
   },
   "outputs": [],
   "source": [
    "def matingPool(population, selectionResults):\n",
    "    matingpool = []\n",
    "    for i in range(0, len(selectionResults)):\n",
    "        index = selectionResults[i]\n",
    "        matingpool.append(population[index])\n",
    "    return matingpool"
   ]
  },
  {
   "cell_type": "markdown",
   "metadata": {
    "id": "hBS4jo8xnp11"
   },
   "source": [
    "### Breeding\n",
    "\n",
    "With our mating pool created, we can create the next generation in a process called crossover (aka “breeding”). If our individuals were strings of 0s and 1s and our two rules didn’t apply (e.g., Knapsack problem, or deciding whether or not to include a stock in a portfolio), we could simply pick a crossover point and splice the two strings together to produce an offspring.  \n",
    "\n",
    "However, the TSP is unique in that we need to include all locations exactly one time. To abide by this rule, we can use a special breeding function called ordered crossover. In ordered crossover, we randomly select a subset of the first parent string and then fill the remainder of the route with the genes from the second parent in the order in which they appear, without duplicating any genes in the selected subset from the first parent."
   ]
  },
  {
   "cell_type": "code",
   "execution_count": 28,
   "metadata": {
    "id": "A0GyaS-qnp12"
   },
   "outputs": [],
   "source": [
    "def breed(parent1, parent2):\n",
    "    \"\"\"\n",
    "    This function should breed both parents (routes) and return a child route according to the ordered crossover algorithm  \n",
    "    mentioned above. Please fill in the code to do so.\n",
    "    \"\"\"\n",
    "    \n",
    "    offspring = []\n",
    "    \n",
    "    parent1_list = list(parent1)\n",
    "    parent2_list = list(parent2)\n",
    "    \n",
    "    splice1 = random.randint(0, len(parent1_list) - 1)\n",
    "    splice2 = random.randint(splice1, len(parent1_list) - 1)\n",
    "    \n",
    "    parent1_element = parent1_list[splice1:splice2]\n",
    "    parent2_element = parent2_list[splice1:splice2]\n",
    "    \n",
    "    parent2_start_elements = parent2_list[:splice1]\n",
    "    parent2_end_elements = parent2_list[splice2:]\n",
    "    \n",
    "    for element in parent1_element:\n",
    "        if element in parent2_start_elements:\n",
    "            parent2_start_elements.remove(element)\n",
    "        elif element in parent2_element:\n",
    "            parent2_element.remove(element)\n",
    "        elif element in parent2_end_elements:\n",
    "            parent2_end_elements.remove(element)\n",
    "    \n",
    "    for element1 in parent2_start_elements:\n",
    "        offspring.append(element1)\n",
    "    for element2 in parent2_element:\n",
    "        offspring.append(element2)\n",
    "    for element3 in parent1_element:\n",
    "        offspring.append(element3)\n",
    "    for element4 in parent2_end_elements:\n",
    "        offspring.append(element4)\n",
    "\n",
    "    return offspring"
   ]
  },
  {
   "cell_type": "markdown",
   "metadata": {
    "id": "hn9ao7H8np12"
   },
   "source": [
    "Next, we’ll generalize this to create our offspring population. We use elitism to retain the best routes from the current population. Then, we use the breed function to fill out the rest of the next generation."
   ]
  },
  {
   "cell_type": "code",
   "execution_count": 29,
   "metadata": {
    "id": "vOoO-Drfnp13"
   },
   "outputs": [],
   "source": [
    "def breedPopulation(matingpool, eliteSize):\n",
    "    \"\"\"\n",
    "    This function should return the offspring population from the current population using the breed function. It should \n",
    "    retain the eliteSize best routes from the current population. Then it should use the breed function to mate\n",
    "    members of the population, to fill out the rest of the next generation. You may decide how to choose mates for individuals.\n",
    "    \"\"\"\n",
    "    children_list = []\n",
    "    length = len(matingpool) - eliteSize\n",
    "    pool = random.sample(matingpool, len(matingpool))\n",
    "\n",
    "    for i in range(0,eliteSize):\n",
    "        children_list.append(matingpool[i])\n",
    "    \n",
    "    for i in range(0, length):\n",
    "        child1 = breed(pool[i], pool[len(matingpool)-i-1])\n",
    "        children_list.append(child1)\n",
    "    return children_list"
   ]
  },
  {
   "cell_type": "markdown",
   "metadata": {
    "id": "MhXwfzDHnp13"
   },
   "source": [
    "### Mutating\n",
    "Mutation serves an important function in GA, as it helps to avoid local convergence by introducing novel routes that will allow us to explore other parts of the solution space. Similar to crossover, the TSP has a special consideration when it comes to mutation. \n",
    "\n",
    "Since we need to abide by our rules, we can’t drop cities, and we can use swap mutation. This means that, with specified low probability, two cities will swap places in our route. We’ll do this for one individual in our mutate function. Each individual in the population is mutated, and thus called with mutate(), with probability mutationRate."
   ]
  },
  {
   "cell_type": "code",
   "execution_count": 30,
   "metadata": {
    "id": "S5OvY2D4np14"
   },
   "outputs": [],
   "source": [
    "def mutate(individual):\n",
    "    \"\"\"\n",
    "    This function should take in an individual (route) and return a mutated individual. Assume mutationRate is a probability\n",
    "    between 0 and 1. Use the swap mutation described above to mutate the individual according to the mutationRate. Iterate \n",
    "    through each of the cities and swap it with another city according to the given probability.\n",
    "    \"\"\"\n",
    "    point1 = random.randint(0,len(individual) - 1)\n",
    "    point2 = random.randint(0,len(individual) - 1)\n",
    "    \n",
    "    individual_index_1 = individual[point1]\n",
    "    individual_index_2 = individual[point2]\n",
    "    \n",
    "    replacement1 = individual[point1]\n",
    "    replacement2 = individual[point2]\n",
    "    \n",
    "    individual[point1] = replacement2\n",
    "    individual[point2] = replacement1\n",
    "    \n",
    "    return individual"
   ]
  },
  {
   "cell_type": "markdown",
   "metadata": {
    "id": "u5Ziu2n4np14"
   },
   "source": [
    "Next, we can extend the mutate function to run through the new population.  "
   ]
  },
  {
   "cell_type": "code",
   "execution_count": 31,
   "metadata": {
    "id": "LwzXe2cxnp15"
   },
   "outputs": [],
   "source": [
    "def mutatePopulation(population, mutationRate):\n",
    "    \"\"\"\n",
    "    This function should use the above mutate function to mutate each member of the population. Simply iterate over the \n",
    "    population and mutate each individual using the mutationRate.\n",
    "    \"\"\"\n",
    "    for i in population:\n",
    "        if random.random() <= mutationRate:\n",
    "            i = mutate(i)\n",
    "    return population"
   ]
  },
  {
   "cell_type": "markdown",
   "metadata": {
    "id": "zQJqNS1cnp15"
   },
   "source": [
    "### Repeating This Process\n",
    "Pulling these pieces together, we create a function that produces a new generation. First, we rank the routes in the current generation using rankRoutes. We then determine our potential parents by running the selection function, which allows us to create the mating pool using the matingPool function. Finally, we then create our new generation using the breedPopulation function and then applying mutation using the mutatePopulation function."
   ]
  },
  {
   "cell_type": "code",
   "execution_count": 32,
   "metadata": {
    "id": "BxsiJKU0np15"
   },
   "outputs": [],
   "source": [
    "def nextGeneration(currentGen, eliteSize, mutationRate):\n",
    "    \"\"\"\n",
    "    This function takes in the current generation, eliteSize and mutationRate and should return the next generation.\n",
    "    Please use all the above defined functions to do so, some hints are in the above paragraph.\n",
    "    \"\"\"\n",
    "    popRanked = rankRoutes(currentGen)\n",
    "    selectionResults = selection(popRanked, eliteSize)\n",
    "    matingpool = matingPool(currentGen, selectionResults)\n",
    "    children = breedPopulation(matingpool, eliteSize)\n",
    "    nextGeneration = mutatePopulation(children, mutationRate)\n",
    "    return nextGeneration"
   ]
  },
  {
   "cell_type": "markdown",
   "metadata": {
    "id": "ZwDlXro5np16"
   },
   "source": [
    "### Final step: Evolution in motion\n",
    "We finally have all the pieces in place to create our GA! All we do now is create the initial population, and then we can loop through as many generations as we desire. Of course we also want to see the best route and how much we’ve improved, so we capture the initial distance."
   ]
  },
  {
   "cell_type": "code",
   "execution_count": 33,
   "metadata": {
    "id": "h3U_c7lqb-x6"
   },
   "outputs": [],
   "source": [
    "def geneticAlgorithm(population, popSize, eliteSize, mutationRate, generations):\n",
    "    pop = initialPopulation(popSize, population)\n",
    "    \n",
    "    print(\"Initial distance: \" + str(1 / rankRoutes(pop)[0][1]))\n",
    "    for i in range(0, generations):\n",
    "        pop = nextGeneration(pop, eliteSize, mutationRate)\n",
    "    print(\"Final distance: \" + str(1 / rankRoutes(pop)[0][1]))\n",
    "    \n",
    "    print(\"Initial Fitness: \" + str(rankRoutes(pop)[0][1]))\n",
    "    for i in range(0, generations):\n",
    "        pop = nextGeneration(pop, eliteSize, mutationRate)\n",
    "    print(\"Final Fitness: \" + str(rankRoutes(pop)[0][1]))\n",
    "    \n",
    "    bestRouteIndex = rankRoutes(pop)[0][0]\n",
    "    bestRoute = pop[bestRouteIndex]\n",
    "    \n",
    "    return bestRoute"
   ]
  },
  {
   "cell_type": "markdown",
   "metadata": {
    "id": "k0E1VD-fnp16"
   },
   "source": [
    "## Running the genetic algorithm"
   ]
  },
  {
   "cell_type": "markdown",
   "metadata": {
    "id": "RypKthO9np17"
   },
   "source": [
    "With everything in place, solving the TSP is as easy as two steps:  \n",
    "First, we need a list of cities to travel between. For this demonstration, we’ll use the list of 20 biggest cities of United States:"
   ]
  },
  {
   "cell_type": "markdown",
   "metadata": {
    "id": "FH4cR7Gunp17"
   },
   "source": [
    "## Create the City list\n",
    "You need to put all the 20 cities as city objects in the cityList array. We will use the last column Coordinates to calculate the distance between all the cities. And for convenience we will multiply all the coordinates by 100. For example, for New York, it would be  \n",
    "NewYork= City( int(40.71 * 100), int( -74.00 * 100))  \n",
    "And then you can put cityList.append(NewYork)"
   ]
  },
  {
   "cell_type": "code",
   "execution_count": 37,
   "metadata": {
    "id": "IFa4Inqinp2A"
   },
   "outputs": [],
   "source": [
    "# My city list Code:\n",
    "Top_20_US_City_List = []\n",
    "New_York = City(4071, -7400)\n",
    "Los_Angeles = City(3405,-11824) \n",
    "Chicago = City(4187,-8763)\n",
    "Houston = City(2976,-9537)\n",
    "Philly = City(3995,-7517)\n",
    "Phoenix = City(3344, -11207)\n",
    "San_Antonio = City(2942, -9849)\n",
    "San_Diego = City(3271, -11716)\n",
    "Dallas = City(3277, -9680)\n",
    "San_Jose = City(3733, -12189)\n",
    "Austin = City(3027, -9774)\n",
    "Indianapolis = City(3977, -8616)\n",
    "Jacksonville = City(3033, -8166)\n",
    "San_Francisco = City(3777, -12242)\n",
    "Columbus = City(3996, -8300)\n",
    "Charlotte = City(3523, -8084)\n",
    "Fort_Worth = City(3276, -9733)\n",
    "Detroit = City(4233, -8304)\n",
    "El_Paso = City(3178, -10644)\n",
    "Memphis = City(3515, -9005)\n",
    "\n",
    "Top_20_US_City_List.append(New_York)\n",
    "Top_20_US_City_List.append(LA)\n",
    "Top_20_US_City_List.append(Chicago)\n",
    "Top_20_US_City_List.append(Houston)\n",
    "Top_20_US_City_List.append(Phoenix)\n",
    "Top_20_US_City_List.append(Philly)\n",
    "Top_20_US_City_List.append(San_Antonio)\n",
    "Top_20_US_City_List.append(San_Diego)\n",
    "Top_20_US_City_List.append(Dallas)\n",
    "Top_20_US_City_List.append(San_Jose)\n",
    "Top_20_US_City_List.append(Austin)\n",
    "Top_20_US_City_List.append(Jacksonville)\n",
    "Top_20_US_City_List.append(Fort_Worth)\n",
    "Top_20_US_City_List.append(Columbus)\n",
    "Top_20_US_City_List.append(Charlotte)\n",
    "Top_20_US_City_List.append(San_Francisco)\n",
    "Top_20_US_City_List.append(Indianapolis)\n",
    "Top_20_US_City_List.append(Detroit)\n",
    "Top_20_US_City_List.append(El_Paso)\n",
    "Top_20_US_City_List.append(Memphis)"
   ]
  },
  {
   "cell_type": "code",
   "execution_count": 38,
   "metadata": {
    "id": "NEY2Ws90np2A"
   },
   "outputs": [
    {
     "name": "stdout",
     "output_type": "stream",
     "text": [
      "Initial distance: 26347.40507348115\n",
      "Final distance: 11851.854371375523\n",
      "Initial Fitness: 8.437498206316049e-05\n",
      "Final Fitness: 8.450404408012684e-05\n"
     ]
    },
    {
     "data": {
      "text/plain": [
       "[(-12242,3777),\n",
       " (-11207,3344),\n",
       " (-9733,3276),\n",
       " (-9680,3277),\n",
       " (-9537,2976),\n",
       " (-8166,3033),\n",
       " (-8084,3523),\n",
       " (-7517,3995),\n",
       " (-7400,4071),\n",
       " (-8304,4233),\n",
       " (-8300,3996),\n",
       " (-8616,3977),\n",
       " (-8763,4187),\n",
       " (-9005,3515),\n",
       " (-9774,3027),\n",
       " (-9849,2942),\n",
       " (-10644,3178),\n",
       " (-11716,3271),\n",
       " (-11824,3405),\n",
       " (-12189,3733)]"
      ]
     },
     "execution_count": 38,
     "metadata": {},
     "output_type": "execute_result"
    }
   ],
   "source": [
    "geneticAlgorithm(population = Top_20_US_City_List, popSize=100, eliteSize=5, mutationRate=0.01, generations=500)"
   ]
  },
  {
   "cell_type": "code",
   "execution_count": 42,
   "metadata": {
    "id": "1ltG4HpNnp2B"
   },
   "outputs": [
    {
     "data": {
      "image/png": "[encoded data removed]",
      "text/plain": [
       "<Figure size 1080x1080 with 1 Axes>"
      ]
     },
     "metadata": {
      "needs_background": "light"
     },
     "output_type": "display_data"
    }
   ],
   "source": [
    "# Plotting the cities\n",
    "route_list = [(-12242,3777),(-11207,3344),(-9733,3276),(-9680,3277),(-9537,2976),(-8166,3033),(-8084,3523),(-7517,3995),\n",
    "              (-7400,4071),(-8304,4233),(-8300,3996),(-8616,3977),(-8763,4187),(-9005,3515),(-9774,3027),(-9849,2942),\n",
    "              (-10644,3178),(-11716,3271),(-11824,3405),(-12189,3733)]\n",
    "\n",
    "fig, ax1 = plt.subplots(ncols = 1, figsize = (15,15))\n",
    "x = [route_list[0][0],route_list[1][0],route_list[2][0],route_list[3][0],route_list[4][0],route_list[5][0],route_list[6][0],\n",
    "     route_list[7][0],route_list[8][0],route_list[9][0], route_list[10][0],route_list[11][0],route_list[12][0],\n",
    "     route_list[13][0],route_list[14][0],route_list[15][0],route_list[16][0],route_list[17][0],route_list[18][0], \n",
    "     route_list[19][0]]\n",
    "y = [route_list[0][1],route_list[1][1],route_list[2][1],route_list[3][1],route_list[4][1],route_list[5][1],route_list[6][1], \n",
    "     route_list[7][1],route_list[8][1],route_list[9][1],route_list[10][1],route_list[11][1],route_list[12][1],\n",
    "     route_list[13][1],route_list[14][1],route_list[15][1],route_list[16][1],route_list[17][1],route_list[18][1], \n",
    "     route_list[19][1]]\n",
    "\n",
    "n = ['San Francisco', 'Phoenix', 'For Worth', 'Dallas', 'Houston', 'Jacksonville', 'Charlotte', 'Philly', 'New York', \n",
    "     'Detroit', 'Columbus', 'Indianapolis', 'Chicago', 'Memphis', 'Austin', 'San Antonio', 'El Paso', 'San Diego', \n",
    "     'Los Angeles', 'San Jose']\n",
    "\n",
    "ax1.plot(x, y, marker = \"o\", markerfacecolor = \"r\")\n",
    "for i, txt in enumerate(n):\n",
    "    ax1.annotate(txt, (x[i], y[i]))"
   ]
  },
  {
   "cell_type": "markdown",
   "metadata": {
    "id": "ZPq0raYAnp2B"
   },
   "source": [
    "## The Optimal Path of Cities:"
   ]
  },
  {
   "cell_type": "markdown",
   "metadata": {
    "id": "n2RSGBvKnp2B"
   },
   "source": [
    "The optimal path my GA gave me was:\n",
    "\n",
    "'San Francisco', 'Phoenix', 'For Worth', 'Dallas', 'Houston', 'Jacksonville', 'Charlotte', 'Philly', 'New York', 'Detroit', 'Columbus', 'Indianapolis', 'Chicago', 'Memphis', 'Austin', 'San Antonio', 'El Paso', 'San Diego', 'Los Angeles', and 'San Jose' in that order."
   ]
  },
  {
   "cell_type": "markdown",
   "metadata": {
    "id": "7KoHbWEBnp2B"
   },
   "source": [
    "## Plot the Overall Progress:"
   ]
  },
  {
   "cell_type": "markdown",
   "metadata": {
    "id": "zFpdWe9Bnp2B"
   },
   "source": [
    "It’s great to know our starting and ending distance and the proposed route, but we would be remiss not to see how our distance improved over time. With a simple tweak to our geneticAlgorithm function, we can store the shortest distance from each generation in a progress list and then plot the results."
   ]
  },
  {
   "cell_type": "code",
   "execution_count": 43,
   "metadata": {
    "id": "o1T3ZR2vnp2C"
   },
   "outputs": [],
   "source": [
    "def geneticAlgorithmPlot(population, popSize, eliteSize, mutationRate, generations):\n",
    "    pop = initialPopulation(popSize, population)\n",
    "    \n",
    "    fitness = []\n",
    "    progress = []\n",
    "    \n",
    "    progress.append(1 / rankRoutes(pop)[0][1])\n",
    "    for i in range(0, generations):\n",
    "        pop = nextGeneration(pop, eliteSize, mutationRate)\n",
    "        progress.append(1 / rankRoutes(pop)[0][1])\n",
    "    \n",
    "    for x in progress:\n",
    "        fitness.append(1/x)\n",
    "    \n",
    "    plt.plot(progress)\n",
    "    plt.title('Distance vs Generation')\n",
    "    plt.ylabel('Distance')\n",
    "    plt.xlabel('Generation')\n",
    "    plt.show()\n",
    "    \n",
    "    plt.plot(fitness)\n",
    "    plt.title('Fitness vs Generation')\n",
    "    plt.ylabel('Fitness')\n",
    "    plt.xlabel('Generation')\n",
    "    plt.show()"
   ]
  },
  {
   "cell_type": "code",
   "execution_count": 44,
   "metadata": {
    "id": "wPPasGhfnp2I",
    "outputId": "4f575235-d1e7-498e-9fc2-4c13eb6ba52f"
   },
   "outputs": [
    {
     "data": {
      "image/png": "[encoded data removed]",
      "text/plain": [
       "<Figure size 432x288 with 1 Axes>"
      ]
     },
     "metadata": {
      "needs_background": "light"
     },
     "output_type": "display_data"
    },
    {
     "data": {
      "image/png": "[encoded data removed]",
      "text/plain": [
       "<Figure size 432x288 with 1 Axes>"
      ]
     },
     "metadata": {
      "needs_background": "light"
     },
     "output_type": "display_data"
    }
   ],
   "source": [
    "geneticAlgorithmPlot(population=Top_20_US_City_List, popSize=100, eliteSize=20, mutationRate=0.01, generations=500)"
   ]
  }
 ],
 "metadata": {
  "colab": {
   "collapsed_sections": [],
   "name": "COGS 160 Assignment 2 Final.ipynb",
   "provenance": []
  },
  "kernelspec": {
   "display_name": "Python 3",
   "language": "python",
   "name": "python3"
  },
  "language_info": {
   "codemirror_mode": {
    "name": "ipython",
    "version": 3
   },
   "file_extension": ".py",
   "mimetype": "text/x-python",
   "name": "python",
   "nbconvert_exporter": "python",
   "pygments_lexer": "ipython3",
   "version": "3.7.6"
  }
 },
 "nbformat": 4,
 "nbformat_minor": 1
}
